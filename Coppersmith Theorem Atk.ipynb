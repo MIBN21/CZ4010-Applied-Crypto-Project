{
 "cells": [
  {
   "cell_type": "markdown",
   "metadata": {},
   "source": [
    "# RSA Attack using Coppersmith Theorem"
   ]
  },
  {
   "cell_type": "markdown",
   "metadata": {},
   "source": [
    "Step 1: Initialise RSA values"
   ]
  },
  {
   "cell_type": "code",
   "execution_count": 1,
   "metadata": {},
   "outputs": [
    {
     "name": "stdout",
     "output_type": "stream",
     "text": [
      "1\n"
     ]
    }
   ],
   "source": [
    "# initialise my RSA\n",
    "p = 12869795083300688777180977539261293509742299186625597947007346052371885560376413412969538812952531788746738888696190568941522462811532669027187276982231027\n",
    "q = 12148353615556056154472437834933029851320451773077215044227637191346624898202059936109696194890997673818589947427245092370775886593279153368858540169203579\n",
    "N = 156346821631681477401124926750495286740792129458553032234494386688081624853288356506937772456803832811784712148005027115830528920515787519711656110036850378116016773959834119229061429110509500800467962987062370248424826070636629116147537042363934287867297000405976659980678829286591117944009130578389173245633\n",
    "e = 5\n",
    "print(gcd((p-1)*(q-1),e))"
   ]
  },
  {
   "cell_type": "markdown",
   "metadata": {},
   "source": [
    "Step 2: Generate stereotyped message\n",
    "According to Coppersmith, if missing only N^1/e of message then considered small root\n",
    "Using theorem, can find small roots mathematically"
   ]
  },
  {
   "cell_type": "code",
   "execution_count": 2,
   "metadata": {},
   "outputs": [
    {
     "name": "stdout",
     "output_type": "stream",
     "text": [
      "Want to find: 11497105110\n",
      "ciphertext : 67373992767897182007036525278010881575274144880767368457641721706933093232940017948571693456110907321347258070229564152878046700085563917015213969025219930448796937856773411173744563559548924436659320098498006743228955681325678572098709910283318328470675785764932426632475956154923442024533324742959746135457\n"
     ]
    }
   ],
   "source": [
    "# Stereotyped message\n",
    "length_N = 1024\n",
    "\n",
    "unknown_m = \"rain\"\n",
    "\n",
    "um_ascii = [ord(i) for i in unknown_m]\n",
    "u_m = ''.join(map(str, um_ascii))\n",
    "length_m = int(u_m).bit_length()\n",
    "print(f\"Want to find: {u_m}\")\n",
    "\n",
    "# attach \"unknown_m\" to arbitrary message\n",
    "K = ZZ(u_m)\n",
    "Kdigits = K.digits(2)\n",
    "M = [0]*length_m + [1]*(length_N-length_m);   # generate \"unknown_m\" zeros and \"1024-unknown_m\" ones\n",
    "for i in range(len(Kdigits)):                 # insert \"unknown_m\" into least sig bits\n",
    "    M[i] = Kdigits[i]\n",
    "\n",
    "# generate ciphertext\n",
    "ZmodN = Zmod(N)\n",
    "M = ZZ(M, 2)                                  # convert M into integers\n",
    "c = ZmodN(M)^e\n",
    "print(f\"ciphertext : {c}\")"
   ]
  },
  {
   "cell_type": "code",
   "execution_count": 3,
   "metadata": {},
   "outputs": [],
   "source": [
    "# Defining the Equation\n",
    "R.<x> = PolynomialRing(ZmodN)               # x is part of integer ring mod N\n",
    "eqn = (2^length_N - 2^length_m + x)^e - c   # equation as defined by coppersmith"
   ]
  },
  {
   "cell_type": "code",
   "execution_count": 4,
   "metadata": {},
   "outputs": [],
   "source": [
    "# Variables to adjust\n",
    "beta = 0.9                                   # must satisfy 0 < beta <= 1\n",
    "deg = eqn.degree()\n",
    "epsilon = beta / 7                           # as defined by coppersmith theorem\n",
    "copp_m = ceil(beta**2 / (deg * epsilon))     # computing m as defined by coppersmith for later polynomials\n",
    "copp_t = floor(deg * copp_m * ((1/beta) - 1))    # computing t as defined by coppersmith for later polynomials\n",
    "copp_X = ceil(N**((beta**2/deg) - epsilon))  # boundary X, which root must not exceed"
   ]
  },
  {
   "cell_type": "code",
   "execution_count": 11,
   "metadata": {},
   "outputs": [],
   "source": [
    "# Coppersmith function\n",
    "def coppersmith_theorem(eqn, deg, N, beta, copp_m, copp_t, copp_X):\n",
    "\n",
    "    # applying Howgrave-Graham Theorem, we change polynomial ring of x from (int mod N) to just int\n",
    "    eqn_z = eqn.change_ring(ZZ)\n",
    "    x = eqn_z.parent().gen()\n",
    "\n",
    "    # generate the polynomials to be used in lattice\n",
    "    g = []\n",
    "    for ii in range(copp_m):                                            # note i and j represent imaginary in sage\n",
    "        for jj in range(deg):\n",
    "            g.append(((x*copp_X)^jj)*N^(copp_m-ii)*eqn_z(x*copp_X)^ii) # g polynomial\n",
    "    for ii in range(copp_t):\n",
    "        g.append(((x*copp_X)^ii)*eqn_z(x*copp_X)^copp_m)               # h polynomial\n",
    "    \n",
    "    # create lattice for LLL\n",
    "    lat_length = copp_t + (deg*copp_m)\n",
    "    lati = Matrix(ZZ, lat_length)                     # square matrix with lat_length width\n",
    "    \n",
    "    # fill up the lattice\n",
    "    for ii in range(lat_length):\n",
    "        for jj in range(ii+1):\n",
    "            lati[ii, jj] = g[ii][jj]\n",
    "\n",
    "    # apply the LLL algorithm\n",
    "    lati = lati.LLL()\n",
    "\n",
    "    # take out all the shortest poly to test their root\n",
    "    new_polynomial = 0\n",
    "    for ii in range(lat_length):\n",
    "        new_polynomial += (x^ii)*lati[0,ii]/copp_X^ii\n",
    "\n",
    "    # solve for the root\n",
    "    short_roots = new_polynomial.roots()\n",
    "\n",
    "    # test roots\n",
    "    roots = []\n",
    "    for root in short_roots:\n",
    "        if root[0].is_integer():\n",
    "            result = eqn_z(ZZ(root[0]))\n",
    "            if gcd(N, result) >= N^beta:\n",
    "                roots.append(ZZ(root[0]))\n",
    "\n",
    "    return roots"
   ]
  },
  {
   "cell_type": "code",
   "execution_count": 10,
   "metadata": {},
   "outputs": [
    {
     "name": "stdout",
     "output_type": "stream",
     "text": [
      "we want to find: 11497105110\n",
      "we found: [11497105110]\n"
     ]
    }
   ],
   "source": [
    "roots = coppersmith_theorem(eqn, deg, N, beta, copp_m, copp_t, copp_X)\n",
    "\n",
    "print(\"we want to find:\",str(u_m))\n",
    "print(\"we found:\", str(roots))"
   ]
  }
 ],
 "metadata": {
  "kernelspec": {
   "display_name": "SageMath 9.3",
   "language": "sage",
   "name": "sagemath"
  },
  "language_info": {
   "codemirror_mode": {
    "name": "ipython",
    "version": 3
   },
   "file_extension": ".py",
   "mimetype": "text/x-python",
   "name": "python",
   "nbconvert_exporter": "python",
   "pygments_lexer": "ipython3",
   "version": "3.7.10"
  }
 },
 "nbformat": 4,
 "nbformat_minor": 4
}
