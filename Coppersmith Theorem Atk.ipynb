{
 "cells": [
  {
   "cell_type": "markdown",
   "metadata": {},
   "source": [
    "# RSA Attack using Coppersmith Theorem"
   ]
  },
  {
   "cell_type": "markdown",
   "metadata": {},
   "source": [
    "Step 1: Initialise RSA values"
   ]
  },
  {
   "cell_type": "code",
   "execution_count": 1,
   "metadata": {},
   "outputs": [
    {
     "name": "stdout",
     "output_type": "stream",
     "text": [
      "Prime p : 12869795083300688777180977539261293509742299186625597947007346052371885560376413412969538812952531788746738888696190568941522462811532669027187276982231027\n",
      "\n",
      "Prime q : 12148353615556056154472437834933029851320451773077215044227637191346624898202059936109696194890997673818589947427245092370775886593279153368858540169203579\n",
      "\n",
      "Large N : 156346821631681477401124926750495286740792129458553032234494386688081624853288356506937772456803832811784712148005027115830528920515787519711656110036850378116016773959834119229061429110509500800467962987062370248424826070636629116147537042363934287867297000405976659980678829286591117944009130578389173245633\n",
      "\n",
      "Encryption Key: 5\n",
      "GCD check : 1\n"
     ]
    }
   ],
   "source": [
    "# initialise my RSA\n",
    "p = 12869795083300688777180977539261293509742299186625597947007346052371885560376413412969538812952531788746738888696190568941522462811532669027187276982231027\n",
    "q = 12148353615556056154472437834933029851320451773077215044227637191346624898202059936109696194890997673818589947427245092370775886593279153368858540169203579\n",
    "N = 156346821631681477401124926750495286740792129458553032234494386688081624853288356506937772456803832811784712148005027115830528920515787519711656110036850378116016773959834119229061429110509500800467962987062370248424826070636629116147537042363934287867297000405976659980678829286591117944009130578389173245633\n",
    "e = 5\n",
    "\n",
    "print(f\"Prime p : {p}\\n\")\n",
    "\n",
    "print(f\"Prime q : {q}\\n\")\n",
    "print(f\"Large N : {N}\\n\")\n",
    "print(f\"Encryption Key: {e}\")\n",
    "gcd_output = gcd((p-1)*(q-1),e)\n",
    "print(f\"GCD check : {gcd_output}\")"
   ]
  },
  {
   "cell_type": "markdown",
   "metadata": {},
   "source": [
    "Step 2: Generate stereotyped message  \n",
    "According to Coppersmith, if missing only N^1/e of message then considered small root  \n",
    "Using theorem, can find small roots mathematically"
   ]
  },
  {
   "cell_type": "code",
   "execution_count": 2,
   "metadata": {},
   "outputs": [
    {
     "name": "stdout",
     "output_type": "stream",
     "text": [
      "Want to find: 82657378\n",
      "ciphertext : 58074113415568888121781007933081000015716841721347441993874012269825067084697161709454922978847443675473060301388643827209049161432989366251494206694502186485938684334807981807739290744441320829510639531250723921237833312375046715388591105089033451363033491349486954003644562328160622724911574948092367309929\n"
     ]
    }
   ],
   "source": [
    "# Stereotyped message\n",
    "length_N = 1024\n",
    "\n",
    "unknown_m = \"RAIN\"\n",
    "\n",
    "um_ascii = [ord(i) for i in unknown_m]\n",
    "u_m = ''.join(map(str, um_ascii))\n",
    "length_m = int(u_m).bit_length()\n",
    "print(f\"Want to find: {u_m}\")\n",
    "\n",
    "# attach \"unknown_m\" to arbitrary message\n",
    "K = ZZ(u_m)\n",
    "Kdigits = K.digits(2)\n",
    "M = [0]*length_m + [1]*(length_N-length_m);   # generate \"unknown_m\" zeros and \"1024-unknown_m\" ones\n",
    "for i in range(len(Kdigits)):                 # insert \"unknown_m\" into least sig bits\n",
    "    M[i] = Kdigits[i]\n",
    "\n",
    "# generate ciphertext\n",
    "ZmodN = Zmod(N)\n",
    "M = ZZ(M, 2)                                  # convert M into integers\n",
    "c = ZmodN(M)^e\n",
    "print(f\"ciphertext : {c}\")"
   ]
  },
  {
   "cell_type": "code",
   "execution_count": 3,
   "metadata": {},
   "outputs": [],
   "source": [
    "# Defining the Equation\n",
    "R.<x> = PolynomialRing(ZmodN)               # x is part of integer ring mod N\n",
    "eqn = (2^length_N - 2^length_m + x)^e - c   # equation as defined by coppersmith"
   ]
  },
  {
   "cell_type": "code",
   "execution_count": 4,
   "metadata": {},
   "outputs": [],
   "source": [
    "# Variables to adjust\n",
    "beta = 0.9                                    # must satisfy 0 < beta <= 1\n",
    "deg = eqn.degree()\n",
    "epsilon = beta / 7                            # as defined by coppersmith theorem\n",
    "copp_m = ceil(beta**2 / (deg * epsilon))      # computing m as defined by coppersmith for later polynomials\n",
    "copp_t = floor(deg * copp_m * ((1/beta) - 1)) # computing t as defined by coppersmith for later polynomials\n",
    "copp_X = ceil(N**((beta**2/deg) - epsilon))   # boundary X, which root must not exceed"
   ]
  },
  {
   "cell_type": "code",
   "execution_count": 5,
   "metadata": {},
   "outputs": [],
   "source": [
    "# Coppersmith function\n",
    "def coppersmith_theorem(eqn, deg, N, beta, copp_m, copp_t, copp_X):\n",
    "    \n",
    "    lat_length = copp_t + (deg*copp_m)\n",
    "    \n",
    "    # check if variables respect all the boundaries for X and both Howgrave-Graham and LLL\n",
    "    det_LLL = RR(N^((1/2) * (deg*copp_m*(copp_m + 1))) * copp_X^((1/2)*(lat_length * (lat_length - 1))))\n",
    "    LLL_bound = RR(2^((lat_length - 1)/4) * det_LLL^(1/lat_length))\n",
    "    HG_bound = RR(N^(beta*copp_m) / sqrt(lat_length))\n",
    "    if LLL_bound < HG_bound:\n",
    "        print(\"Howgrave-Graham and LLL boundary respected\")\n",
    "    else:\n",
    "        print(\"Howgrave-Graham and LLL boundary not respected. Try other variables\")\n",
    "        \n",
    "    X_bound = RR((1/2) * N^(((2*beta*copp_m)/(lat_length-1)) - ((deg*copp_m*(copp_m+1))/(lat_length*(lat_length-1)))))\n",
    "    if copp_X <= X_bound:\n",
    "        print(\"X boundary respected\")\n",
    "    else:\n",
    "        print(\"X boundary not respected. Try other variables\")\n",
    "\n",
    "    # applying Howgrave-Graham Theorem, we change polynomial ring of x from (int mod N) to just int\n",
    "    eqn_z = eqn.change_ring(ZZ)\n",
    "    x = eqn_z.parent().gen()\n",
    "\n",
    "    # generate the polynomials to be used in lattice\n",
    "    g = []\n",
    "    for w in range(copp_m):                                           \n",
    "        for u in range(deg):                                           \n",
    "            g.append(((x*copp_X)^u) * N^(copp_m-w) * eqn_z(x*copp_X)^w)   # g polynomial\n",
    "    for w in range(copp_t):\n",
    "        g.append(((x*copp_X)^w) * eqn_z(x*copp_X)^copp_m)               # h polynomial\n",
    "    \n",
    "    # create lattice for LLL\n",
    "    #lat_length = copp_t + (deg*copp_m)\n",
    "    lati = Matrix(ZZ, lat_length)                                     # square matrix with lat_length width\n",
    "    \n",
    "    # fill up the lattice\n",
    "    for w in range(lat_length):\n",
    "        for u in range(w+1):\n",
    "            lati[w, u] = g[w][u]\n",
    "\n",
    "    # apply the LLL algorithm\n",
    "    lati = lati.LLL()\n",
    "    \n",
    "    #check condition det(L) < N^beta*m*n\n",
    "    lat_det = lati.det()\n",
    "    \n",
    "    \n",
    "    # take out all the shortest poly to test their root\n",
    "    new_polynomial = 0\n",
    "    for w in range(lat_length):\n",
    "        new_polynomial += (x^w)*lati[0,w]/copp_X^w\n",
    "\n",
    "    # solve for the root\n",
    "    short_roots = new_polynomial.roots()\n",
    "\n",
    "    # test roots\n",
    "    roots = []\n",
    "    for root in short_roots:\n",
    "        if root[0].is_integer():\n",
    "            result = eqn_z(ZZ(root[0]))\n",
    "            if gcd(N, result) >= N^beta:\n",
    "                roots.append(ZZ(root[0]))\n",
    "\n",
    "    return roots"
   ]
  },
  {
   "cell_type": "code",
   "execution_count": 6,
   "metadata": {},
   "outputs": [
    {
     "name": "stdout",
     "output_type": "stream",
     "text": [
      "Howgrave-Graham and LLL boundary respected\n",
      "X boundary respected\n",
      "we want to find: RAIN\n",
      "we found: RAIN\n"
     ]
    }
   ],
   "source": [
    "roots = coppersmith_theorem(eqn, deg, N, beta, copp_m, copp_t, copp_X)\n",
    "\n",
    "print(f\"we want to find: {unknown_m}\")\n",
    "\n",
    "# convert root using ascii\n",
    "root = str(roots[0])\n",
    "root_ascii = [int(root[w:w+2]) for w in range(0, len(root), 2)]\n",
    "answer = ''.join([chr(q) for q in root_ascii])\n",
    "print(f\"we found: {answer}\")"
   ]
  },
  {
   "cell_type": "code",
   "execution_count": null,
   "metadata": {},
   "outputs": [],
   "source": []
  }
 ],
 "metadata": {
  "kernelspec": {
   "display_name": "SageMath 9.3",
   "language": "sage",
   "name": "sagemath"
  },
  "language_info": {
   "codemirror_mode": {
    "name": "ipython",
    "version": 3
   },
   "file_extension": ".py",
   "mimetype": "text/x-python",
   "name": "python",
   "nbconvert_exporter": "python",
   "pygments_lexer": "ipython3",
   "version": "3.7.10"
  }
 },
 "nbformat": 4,
 "nbformat_minor": 4
}
